{
  "nbformat": 4,
  "nbformat_minor": 0,
  "metadata": {
    "colab": {
      "provenance": []
    },
    "kernelspec": {
      "name": "python3",
      "display_name": "Python 3"
    },
    "language_info": {
      "name": "python"
    }
  },
  "cells": [
    {
      "cell_type": "code",
      "execution_count": 15,
      "metadata": {
        "id": "cMSK5WRTqChG"
      },
      "outputs": [],
      "source": [
        "import dis"
      ]
    },
    {
      "cell_type": "code",
      "source": [
        "def calc(code):\n",
        "  data = code.split()\n",
        "  stack = []\n",
        "  for x in data:\n",
        "    print(stack, x, end=\" => \")\n",
        "    if x == '+':\n",
        "      b = stack.pop()\n",
        "      a = stack.pop()\n",
        "      stack.append(a+b)\n",
        "    elif x == '-':\n",
        "      b = stack.pop()\n",
        "      a = stack.pop()\n",
        "      stack.append(a-b)\n",
        "    elif x == \"*\":\n",
        "      b = stack.pop()\n",
        "      a = stack.pop()\n",
        "      stack.append(a*b)\n",
        "    elif x == \"/\":\n",
        "      b = stack.pop()\n",
        "      a = stack.pop()\n",
        "      stack.append(a//b)\n",
        "    else:\n",
        "      stack.append(int(x))\n",
        "    print(stack)\n",
        "  print(stack.pop())"
      ],
      "metadata": {
        "id": "vWMDOJpvqIJL"
      },
      "execution_count": 16,
      "outputs": []
    },
    {
      "cell_type": "code",
      "source": [
        "calc(\"1 2 3 * + 4 /\")"
      ],
      "metadata": {
        "colab": {
          "base_uri": "https://localhost:8080/"
        },
        "id": "amKjXO18qutD",
        "outputId": "c68f3c81-2d9d-45ed-8f5f-f735cd7b8c65"
      },
      "execution_count": 21,
      "outputs": [
        {
          "output_type": "stream",
          "name": "stdout",
          "text": [
            "[] 1 => [1]\n",
            "[1] 2 => [1, 2]\n",
            "[1, 2] 3 => [1, 2, 3]\n",
            "[1, 2, 3] * => [1, 6]\n",
            "[1, 6] + => [7]\n",
            "[7] 4 => [7, 4]\n",
            "[7, 4] / => [1]\n",
            "1\n"
          ]
        }
      ]
    },
    {
      "cell_type": "code",
      "source": [
        "dis.dis(\"a + b * c -d\")"
      ],
      "metadata": {
        "colab": {
          "base_uri": "https://localhost:8080/"
        },
        "id": "pNvIVXIDrnBP",
        "outputId": "b9eff74a-1a7d-428f-d713-54ef99bf7e02"
      },
      "execution_count": 18,
      "outputs": [
        {
          "output_type": "stream",
          "name": "stdout",
          "text": [
            "  1           0 LOAD_NAME                0 (a)\n",
            "              2 LOAD_NAME                1 (b)\n",
            "              4 LOAD_NAME                2 (c)\n",
            "              6 BINARY_MULTIPLY\n",
            "              8 BINARY_ADD\n",
            "             10 LOAD_NAME                3 (d)\n",
            "             12 BINARY_SUBTRACT\n",
            "             14 RETURN_VALUE\n"
          ]
        }
      ]
    },
    {
      "cell_type": "code",
      "source": [
        "dis.dis(\"(a + b * c) / 4\")"
      ],
      "metadata": {
        "colab": {
          "base_uri": "https://localhost:8080/"
        },
        "id": "c-YAQ-kovBAb",
        "outputId": "66434a83-4fde-45df-c3fb-cfffe9fc3287"
      },
      "execution_count": 20,
      "outputs": [
        {
          "output_type": "stream",
          "name": "stdout",
          "text": [
            "  1           0 LOAD_NAME                0 (a)\n",
            "              2 LOAD_NAME                1 (b)\n",
            "              4 LOAD_NAME                2 (c)\n",
            "              6 BINARY_MULTIPLY\n",
            "              8 BINARY_ADD\n",
            "             10 LOAD_CONST               0 (4)\n",
            "             12 BINARY_TRUE_DIVIDE\n",
            "             14 RETURN_VALUE\n"
          ]
        }
      ]
    }
  ]
}